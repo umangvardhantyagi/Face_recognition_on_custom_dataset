{
 "cells": [
  {
   "cell_type": "code",
   "execution_count": 1,
   "id": "7f651a8a",
   "metadata": {},
   "outputs": [],
   "source": [
    "from keras.layers import Input, Dense, Flatten\n",
    "from keras.models import Model\n",
    "from keras.applications.vgg16 import VGG16\n",
    "from keras.applications.vgg16 import preprocess_input\n",
    "from keras.preprocessing import image\n",
    "from keras.preprocessing.image import ImageDataGenerator\n",
    "from keras.models import Sequential\n",
    "import numpy as np\n",
    "from glob import glob\n",
    "import matplotlib.pyplot as plt"
   ]
  },
  {
   "cell_type": "code",
   "execution_count": 2,
   "id": "1c645798",
   "metadata": {},
   "outputs": [],
   "source": [
    "# re-size all the images to this\n",
    "IMAGE_SIZE = [224, 224]"
   ]
  },
  {
   "cell_type": "code",
   "execution_count": 3,
   "id": "fa62778f",
   "metadata": {},
   "outputs": [],
   "source": [
    "train_path = 'Datasets/Train'\n",
    "valid_path = 'Datasets/Test'"
   ]
  },
  {
   "cell_type": "code",
   "execution_count": 4,
   "id": "09652e18",
   "metadata": {},
   "outputs": [],
   "source": [
    "# add preprocessing layer to the front of VGG\n",
    "vgg = VGG16(input_shape = IMAGE_SIZE + [3], weights='imagenet', include_top=False)"
   ]
  },
  {
   "cell_type": "code",
   "execution_count": 5,
   "id": "5ae7d621",
   "metadata": {},
   "outputs": [],
   "source": [
    "# don't train existing weights\n",
    "for layer in vgg.layers:  \n",
    "    layer.trainable = False"
   ]
  },
  {
   "cell_type": "code",
   "execution_count": 10,
   "id": "710688f4",
   "metadata": {},
   "outputs": [],
   "source": [
    "# useful for getting number of classes\n",
    "folders = glob('Datasets/Train/*')"
   ]
  },
  {
   "cell_type": "code",
   "execution_count": 11,
   "id": "6d5dd53d",
   "metadata": {},
   "outputs": [
    {
     "data": {
      "text/plain": [
       "2"
      ]
     },
     "execution_count": 11,
     "metadata": {},
     "output_type": "execute_result"
    }
   ],
   "source": [
    "len(folders)"
   ]
  },
  {
   "cell_type": "code",
   "execution_count": 12,
   "id": "a6a716df",
   "metadata": {},
   "outputs": [],
   "source": [
    "# our layers - you can add more if you want\n",
    "x = Flatten()(vgg.output)\n",
    "# x = Dense(1000, activation='relu')(x)\n",
    "prediction = Dense(len(folders), activation='sigmoid')(x)"
   ]
  },
  {
   "cell_type": "code",
   "execution_count": 13,
   "id": "5797ca47",
   "metadata": {},
   "outputs": [
    {
     "name": "stdout",
     "output_type": "stream",
     "text": [
      "Model: \"model\"\n",
      "_________________________________________________________________\n",
      " Layer (type)                Output Shape              Param #   \n",
      "=================================================================\n",
      " input_1 (InputLayer)        [(None, 224, 224, 3)]     0         \n",
      "                                                                 \n",
      " block1_conv1 (Conv2D)       (None, 224, 224, 64)      1792      \n",
      "                                                                 \n",
      " block1_conv2 (Conv2D)       (None, 224, 224, 64)      36928     \n",
      "                                                                 \n",
      " block1_pool (MaxPooling2D)  (None, 112, 112, 64)      0         \n",
      "                                                                 \n",
      " block2_conv1 (Conv2D)       (None, 112, 112, 128)     73856     \n",
      "                                                                 \n",
      " block2_conv2 (Conv2D)       (None, 112, 112, 128)     147584    \n",
      "                                                                 \n",
      " block2_pool (MaxPooling2D)  (None, 56, 56, 128)       0         \n",
      "                                                                 \n",
      " block3_conv1 (Conv2D)       (None, 56, 56, 256)       295168    \n",
      "                                                                 \n",
      " block3_conv2 (Conv2D)       (None, 56, 56, 256)       590080    \n",
      "                                                                 \n",
      " block3_conv3 (Conv2D)       (None, 56, 56, 256)       590080    \n",
      "                                                                 \n",
      " block3_pool (MaxPooling2D)  (None, 28, 28, 256)       0         \n",
      "                                                                 \n",
      " block4_conv1 (Conv2D)       (None, 28, 28, 512)       1180160   \n",
      "                                                                 \n",
      " block4_conv2 (Conv2D)       (None, 28, 28, 512)       2359808   \n",
      "                                                                 \n",
      " block4_conv3 (Conv2D)       (None, 28, 28, 512)       2359808   \n",
      "                                                                 \n",
      " block4_pool (MaxPooling2D)  (None, 14, 14, 512)       0         \n",
      "                                                                 \n",
      " block5_conv1 (Conv2D)       (None, 14, 14, 512)       2359808   \n",
      "                                                                 \n",
      " block5_conv2 (Conv2D)       (None, 14, 14, 512)       2359808   \n",
      "                                                                 \n",
      " block5_conv3 (Conv2D)       (None, 14, 14, 512)       2359808   \n",
      "                                                                 \n",
      " block5_pool (MaxPooling2D)  (None, 7, 7, 512)         0         \n",
      "                                                                 \n",
      " flatten (Flatten)           (None, 25088)             0         \n",
      "                                                                 \n",
      " dense (Dense)               (None, 2)                 50178     \n",
      "                                                                 \n",
      "=================================================================\n",
      "Total params: 14,764,866\n",
      "Trainable params: 50,178\n",
      "Non-trainable params: 14,714,688\n",
      "_________________________________________________________________\n"
     ]
    }
   ],
   "source": [
    "# create a model object\n",
    "model = Model(inputs = vgg.input, outputs=prediction)\n",
    "\n",
    "# view the structure of the model\n",
    "model.summary()"
   ]
  },
  {
   "cell_type": "code",
   "execution_count": 14,
   "id": "37a5b6b5",
   "metadata": {},
   "outputs": [],
   "source": [
    "# tell the model what cost and optimization method to use\n",
    "model.compile(\n",
    "  loss='binary_crossentropy',\n",
    "  optimizer='adam',\n",
    "  metrics=['accuracy']\n",
    ")"
   ]
  },
  {
   "cell_type": "code",
   "execution_count": 15,
   "id": "ca12c2b8",
   "metadata": {},
   "outputs": [
    {
     "name": "stdout",
     "output_type": "stream",
     "text": [
      "Found 200 images belonging to 2 classes.\n",
      "Found 200 images belonging to 2 classes.\n"
     ]
    }
   ],
   "source": [
    "from keras.preprocessing.image import ImageDataGenerator\n",
    "\n",
    "train_datagen = ImageDataGenerator(rescale = 1./255,\n",
    "                                   shear_range = 0.2,\n",
    "                                   zoom_range = 0.2,\n",
    "                                   horizontal_flip = True)\n",
    "\n",
    "test_datagen = ImageDataGenerator(rescale = 1./255)\n",
    "\n",
    "training_set = train_datagen.flow_from_directory('Datasets/Train',\n",
    "                                                 target_size = (224, 224),\n",
    "                                                 batch_size = 32,\n",
    "                                                 class_mode = 'categorical')\n",
    "\n",
    "test_set = test_datagen.flow_from_directory('Datasets/Test',\n",
    "                                            target_size = (224, 224),\n",
    "                                            batch_size = 32,\n",
    "                                            class_mode = 'categorical')"
   ]
  },
  {
   "cell_type": "code",
   "execution_count": 16,
   "id": "ab3221ac",
   "metadata": {},
   "outputs": [
    {
     "name": "stdout",
     "output_type": "stream",
     "text": [
      "Epoch 1/20\n",
      "7/7 [==============================] - 31s 5s/step - loss: 0.3435 - accuracy: 0.9000 - val_loss: 0.4023 - val_accuracy: 0.7300\n",
      "Epoch 2/20\n",
      "7/7 [==============================] - 31s 5s/step - loss: 0.0666 - accuracy: 0.9850 - val_loss: 0.5529 - val_accuracy: 0.6050\n",
      "Epoch 3/20\n",
      "7/7 [==============================] - 30s 5s/step - loss: 0.0310 - accuracy: 0.9850 - val_loss: 0.2655 - val_accuracy: 0.9100\n",
      "Epoch 4/20\n",
      "7/7 [==============================] - 30s 4s/step - loss: 0.0250 - accuracy: 0.9950 - val_loss: 0.4854 - val_accuracy: 0.6050\n",
      "Epoch 5/20\n",
      "7/7 [==============================] - 30s 4s/step - loss: 0.0177 - accuracy: 1.0000 - val_loss: 0.5200 - val_accuracy: 0.5900\n",
      "Epoch 6/20\n",
      "7/7 [==============================] - 30s 4s/step - loss: 0.0115 - accuracy: 1.0000 - val_loss: 0.2824 - val_accuracy: 0.9250\n",
      "Epoch 7/20\n",
      "7/7 [==============================] - 29s 4s/step - loss: 0.0063 - accuracy: 1.0000 - val_loss: 0.1284 - val_accuracy: 0.9950\n",
      "Epoch 8/20\n",
      "7/7 [==============================] - 31s 5s/step - loss: 0.0080 - accuracy: 1.0000 - val_loss: 0.1149 - val_accuracy: 0.9950\n",
      "Epoch 9/20\n",
      "7/7 [==============================] - 31s 5s/step - loss: 0.0049 - accuracy: 1.0000 - val_loss: 0.1500 - val_accuracy: 0.9950\n",
      "Epoch 10/20\n",
      "7/7 [==============================] - 30s 5s/step - loss: 0.0053 - accuracy: 1.0000 - val_loss: 0.1688 - val_accuracy: 0.9850\n",
      "Epoch 11/20\n",
      "7/7 [==============================] - 30s 5s/step - loss: 0.0026 - accuracy: 1.0000 - val_loss: 0.1510 - val_accuracy: 0.9950\n",
      "Epoch 12/20\n",
      "7/7 [==============================] - 34s 5s/step - loss: 0.0030 - accuracy: 1.0000 - val_loss: 0.1316 - val_accuracy: 0.9950\n",
      "Epoch 13/20\n",
      "7/7 [==============================] - 31s 5s/step - loss: 0.0032 - accuracy: 1.0000 - val_loss: 0.1356 - val_accuracy: 0.9950\n",
      "Epoch 14/20\n",
      "7/7 [==============================] - 30s 5s/step - loss: 0.0028 - accuracy: 1.0000 - val_loss: 0.1266 - val_accuracy: 0.9950\n",
      "Epoch 15/20\n",
      "7/7 [==============================] - 30s 5s/step - loss: 0.0027 - accuracy: 1.0000 - val_loss: 0.1138 - val_accuracy: 0.9950\n",
      "Epoch 16/20\n",
      "7/7 [==============================] - 31s 5s/step - loss: 0.0028 - accuracy: 1.0000 - val_loss: 0.1145 - val_accuracy: 0.9950\n",
      "Epoch 17/20\n",
      "7/7 [==============================] - 30s 5s/step - loss: 0.0028 - accuracy: 1.0000 - val_loss: 0.1111 - val_accuracy: 0.9950\n",
      "Epoch 18/20\n",
      "7/7 [==============================] - 32s 5s/step - loss: 0.0023 - accuracy: 1.0000 - val_loss: 0.1049 - val_accuracy: 0.9950\n",
      "Epoch 19/20\n",
      "7/7 [==============================] - 30s 5s/step - loss: 0.0021 - accuracy: 1.0000 - val_loss: 0.0899 - val_accuracy: 0.9950\n",
      "Epoch 20/20\n",
      "7/7 [==============================] - 33s 5s/step - loss: 0.0018 - accuracy: 1.0000 - val_loss: 0.0800 - val_accuracy: 0.9950\n"
     ]
    }
   ],
   "source": [
    "# fit the model\n",
    "# Run the cell. It will take some time to execute\n",
    "r = model.fit(\n",
    "  training_set,\n",
    "  validation_data = test_set,\n",
    "  epochs=20,\n",
    "  steps_per_epoch=len(training_set),\n",
    "  validation_steps= len(test_set)\n",
    ")"
   ]
  },
  {
   "cell_type": "code",
   "execution_count": 17,
   "id": "1f6b9615",
   "metadata": {},
   "outputs": [
    {
     "data": {
      "image/png": "[encoded data removed]",
      "text/plain": [
       "<Figure size 640x480 with 1 Axes>"
      ]
     },
     "metadata": {},
     "output_type": "display_data"
    },
    {
     "data": {
      "image/png": "[encoded data removed]",
      "text/plain": [
       "<Figure size 640x480 with 1 Axes>"
      ]
     },
     "metadata": {},
     "output_type": "display_data"
    },
    {
     "data": {
      "text/plain": [
       "<Figure size 640x480 with 0 Axes>"
      ]
     },
     "metadata": {},
     "output_type": "display_data"
    }
   ],
   "source": [
    "import matplotlib.pyplot as plt\n",
    "# plot the loss\n",
    "plt.plot(r.history['loss'], label='train loss')\n",
    "plt.plot(r.history['val_loss'], label='val loss')\n",
    "plt.legend()\n",
    "plt.show()\n",
    "plt.savefig('LossVal_loss')\n",
    "\n",
    "# plot the accuracy\n",
    "plt.plot(r.history['accuracy'], label='train acc')\n",
    "plt.plot(r.history['val_accuracy'], label='val acc')\n",
    "plt.legend()\n",
    "plt.show()\n",
    "plt.savefig('AccVal_acc')"
   ]
  },
  {
   "cell_type": "code",
   "execution_count": 18,
   "id": "9b99976b",
   "metadata": {},
   "outputs": [],
   "source": [
    "# save it as a h5 file\n",
    "from tensorflow.keras.models import load_model\n",
    "model.save('model_vgg16.h5')"
   ]
  },
  {
   "cell_type": "code",
   "execution_count": null,
   "id": "5232ff68",
   "metadata": {},
   "outputs": [],
   "source": []
  }
 ],
 "metadata": {
  "kernelspec": {
   "display_name": "Python 3 (ipykernel)",
   "language": "python",
   "name": "python3"
  },
  "language_info": {
   "codemirror_mode": {
    "name": "ipython",
    "version": 3
   },
   "file_extension": ".py",
   "mimetype": "text/x-python",
   "name": "python",
   "nbconvert_exporter": "python",
   "pygments_lexer": "ipython3",
   "version": "3.9.7"
  }
 },
 "nbformat": 4,
 "nbformat_minor": 5
}
